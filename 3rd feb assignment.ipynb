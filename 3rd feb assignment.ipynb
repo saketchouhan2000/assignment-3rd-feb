{
 "cells": [
  {
   "cell_type": "code",
   "execution_count": 1,
   "id": "3a47b948-ae1d-4f64-825e-c751af5082b5",
   "metadata": {},
   "outputs": [],
   "source": [
    "# Q1. Which keyword is used to create a function? Create a function to return a list of odd numbers in the\n",
    "# range of 1 to 25."
   ]
  },
  {
   "cell_type": "code",
   "execution_count": 2,
   "id": "7aad77b4-df60-4fee-bae2-dae9b434d8b9",
   "metadata": {},
   "outputs": [],
   "source": [
    "#Ans= def keyword is used to create a function"
   ]
  },
  {
   "cell_type": "code",
   "execution_count": 27,
   "id": "39d11330-9252-47ab-88ab-9a6130dd155b",
   "metadata": {},
   "outputs": [],
   "source": [
    "def sak1():\n",
    "    return list(range(1,25,2))\n",
    "    \n",
    "    "
   ]
  },
  {
   "cell_type": "code",
   "execution_count": 28,
   "id": "e7e97f26-91a7-4bd9-9c67-89d6aec600fa",
   "metadata": {},
   "outputs": [
    {
     "data": {
      "text/plain": [
       "[1, 3, 5, 7, 9, 11, 13, 15, 17, 19, 21, 23]"
      ]
     },
     "execution_count": 28,
     "metadata": {},
     "output_type": "execute_result"
    }
   ],
   "source": [
    "sak1()"
   ]
  },
  {
   "cell_type": "code",
   "execution_count": 29,
   "id": "1920d657-bbb2-4582-985b-302cfa2e8051",
   "metadata": {},
   "outputs": [],
   "source": [
    "# Q2. Why *args and **kwargs is used in some functions? Create a function each for *args and **kwargs\n",
    "# to demonstrate their use."
   ]
  },
  {
   "cell_type": "code",
   "execution_count": 30,
   "id": "853d52d4-58a7-4610-b308-c9d1a389f55e",
   "metadata": {},
   "outputs": [],
   "source": [
    "#Ans= * args is used for to pass the list and tuple to function as per user requirements and ** kwargs used \n",
    "# for to pass the dictionaries keys and values as per user requiremnts"
   ]
  },
  {
   "cell_type": "code",
   "execution_count": 32,
   "id": "5c102873-a326-4687-a7af-bf545abdf308",
   "metadata": {},
   "outputs": [],
   "source": [
    "# like example if we pass *args\n",
    "def sak2(*args):\n",
    "    return args"
   ]
  },
  {
   "cell_type": "code",
   "execution_count": 33,
   "id": "d231bac4-5747-45b5-9cfe-4b1392949457",
   "metadata": {},
   "outputs": [
    {
     "data": {
      "text/plain": [
       "([1, 5, 7], 1, 4, 5, 3.456, (2, 7, 8))"
      ]
     },
     "execution_count": 33,
     "metadata": {},
     "output_type": "execute_result"
    }
   ],
   "source": [
    "# so now we can pass list tuple float as per our requrements like\n",
    "sak2([1,5,7],1,4,5,3.456,(2,7,8))"
   ]
  },
  {
   "cell_type": "code",
   "execution_count": 42,
   "id": "0111b8a3-b039-40df-92c1-6bd78793c601",
   "metadata": {},
   "outputs": [],
   "source": [
    "# like example if we pass **kwargs\n",
    "def sak3(**kwargs):\n",
    "    return kwargs"
   ]
  },
  {
   "cell_type": "code",
   "execution_count": 43,
   "id": "197536d8-44a9-4bc6-beff-88c2e9f09159",
   "metadata": {},
   "outputs": [
    {
     "data": {
      "text/plain": [
       "{'b': 'saket', 'c': 78.89}"
      ]
     },
     "execution_count": 43,
     "metadata": {},
     "output_type": "execute_result"
    }
   ],
   "source": [
    "sak3(b=\"saket\",c=78.89)"
   ]
  },
  {
   "cell_type": "code",
   "execution_count": 44,
   "id": "6f730340-0075-473f-8aa0-e0f716862e5f",
   "metadata": {},
   "outputs": [],
   "source": [
    "# Q3. What is an iterator in python? Name the method used to initialise the iterator object and the method\n",
    "# used for iteration. Use these methods to print the first five elements of the given list [2, 4, 6, 8, 10, 12, 14,\n",
    "# 16, 18, 20]."
   ]
  },
  {
   "cell_type": "code",
   "execution_count": 1,
   "id": "b5019d61-daf7-4e69-bf3b-cf1beddd3a58",
   "metadata": {},
   "outputs": [],
   "source": [
    "#Ans= iterator is a data with that we can do loop & with \"iter\" function we can convert to iterator and for iteration we \n",
    "# use \"for\" & \"while\" loop function."
   ]
  },
  {
   "cell_type": "code",
   "execution_count": 2,
   "id": "bd1367c7-feaa-4654-89e8-6bf2202a5d9d",
   "metadata": {},
   "outputs": [],
   "source": [
    "A=[2, 4, 6, 8, 10, 12, 14, 16, 18, 20]"
   ]
  },
  {
   "cell_type": "code",
   "execution_count": 6,
   "id": "84e7ff7e-3440-440a-9ad0-b0f0cb16180c",
   "metadata": {},
   "outputs": [
    {
     "name": "stdout",
     "output_type": "stream",
     "text": [
      "2\n",
      "4\n",
      "6\n",
      "8\n",
      "10\n"
     ]
    }
   ],
   "source": [
    "for i in A:\n",
    "    if i <12:\n",
    "        print(i)\n",
    "    \n",
    "    "
   ]
  },
  {
   "cell_type": "code",
   "execution_count": 8,
   "id": "e4d54626-e98d-4f8d-8382-f646d4b65090",
   "metadata": {},
   "outputs": [],
   "source": [
    "# Q4. What is a generator function in python? Why yield keyword is used? Give an example of a generator\n",
    "# function."
   ]
  },
  {
   "cell_type": "code",
   "execution_count": 9,
   "id": "d59fa9a6-8b6b-45e0-a2da-fb33881ef3cc",
   "metadata": {},
   "outputs": [],
   "source": [
    "#Ans= Geneerator function is a function which used on large data set and a iterator \n",
    "# that produces a sequence of values when iterated over."
   ]
  },
  {
   "cell_type": "code",
   "execution_count": 13,
   "id": "9602a83b-e000-4d26-a59f-1a1502ba39ce",
   "metadata": {},
   "outputs": [],
   "source": [
    "# Example of generator function\n",
    "def sak4(n):\n",
    "    a=2\n",
    "    for i in range (n):\n",
    "        yield (a)\n",
    "        a=a*2\n",
    "        \n"
   ]
  },
  {
   "cell_type": "code",
   "execution_count": 14,
   "id": "9f789bc4-b250-496b-bed9-1f1093be866d",
   "metadata": {},
   "outputs": [
    {
     "name": "stdout",
     "output_type": "stream",
     "text": [
      "2\n",
      "4\n",
      "8\n",
      "16\n",
      "32\n",
      "64\n",
      "128\n",
      "256\n"
     ]
    }
   ],
   "source": [
    "for i in sak4(8):\n",
    "    print(i)"
   ]
  },
  {
   "cell_type": "code",
   "execution_count": 15,
   "id": "b6147e2d-1803-4306-bebb-30ee7af5e025",
   "metadata": {},
   "outputs": [],
   "source": [
    "a=sak4(8)"
   ]
  },
  {
   "cell_type": "code",
   "execution_count": 16,
   "id": "b3b45c60-f5d0-470d-9035-bf6ad8cdcf80",
   "metadata": {},
   "outputs": [
    {
     "data": {
      "text/plain": [
       "generator"
      ]
     },
     "execution_count": 16,
     "metadata": {},
     "output_type": "execute_result"
    }
   ],
   "source": [
    "type(a)"
   ]
  },
  {
   "cell_type": "code",
   "execution_count": 17,
   "id": "ccb1cac0-e8e3-4d4a-9161-ece4e46d8547",
   "metadata": {},
   "outputs": [],
   "source": [
    "# Q5. Create a generator function for prime numbers less than 1000. Use the next() method to print the\n",
    "# first 20 prime numbers."
   ]
  },
  {
   "cell_type": "code",
   "execution_count": null,
   "id": "9a8e9905-0597-4f92-a1f9-779e93c9ffec",
   "metadata": {},
   "outputs": [],
   "source": [
    "# ans \n",
    "\n",
    "        \n",
    "       \n",
    "    \n"
   ]
  },
  {
   "cell_type": "code",
   "execution_count": 18,
   "id": "50490bb8-d4aa-4773-bc87-593c6f80ddb9",
   "metadata": {},
   "outputs": [],
   "source": [
    "# Q6. Write a python program to print the first 10 Fibonacci numbers using a while loop."
   ]
  },
  {
   "cell_type": "code",
   "execution_count": 19,
   "id": "1ab735e6-f7d3-42f7-8c96-49f93b4d7354",
   "metadata": {},
   "outputs": [
    {
     "name": "stdout",
     "output_type": "stream",
     "text": [
      "0\n",
      "1\n",
      "1\n",
      "2\n",
      "3\n",
      "5\n",
      "8\n",
      "13\n",
      "21\n",
      "34\n"
     ]
    }
   ],
   "source": [
    "# ANS\n",
    "number=10\n",
    "a,b=0,1\n",
    "counter=0\n",
    "while counter<number:\n",
    "           print(a)\n",
    "           c=a+b\n",
    "           a=b\n",
    "           b=c\n",
    "           counter=counter+1\n",
    "    \n",
    "    "
   ]
  },
  {
   "cell_type": "code",
   "execution_count": 20,
   "id": "809e87b8-e447-4c1c-9026-a1ecab4d84ee",
   "metadata": {},
   "outputs": [],
   "source": [
    "# Q7. Write a List Comprehension to iterate through the given string: ‘pwskills’.\n",
    "# Expected output: ['p', 'w', 's', 'k', 'i', 'l', 'l', 's']"
   ]
  },
  {
   "cell_type": "code",
   "execution_count": 21,
   "id": "d70d0842-70b5-462d-b371-8ae777ae17e7",
   "metadata": {},
   "outputs": [],
   "source": [
    "# Ans\n",
    "B='pwskills'"
   ]
  },
  {
   "cell_type": "code",
   "execution_count": 24,
   "id": "a26ace4d-cff0-4053-9c4b-6fd0b60f2200",
   "metadata": {},
   "outputs": [
    {
     "data": {
      "text/plain": [
       "['p', 'w', 's', 'k', 'i', 'l', 'l', 's']"
      ]
     },
     "execution_count": 24,
     "metadata": {},
     "output_type": "execute_result"
    }
   ],
   "source": [
    "[i for i in B ]"
   ]
  },
  {
   "cell_type": "code",
   "execution_count": 25,
   "id": "70581623-a4fd-4a80-979b-ea9c78f3f225",
   "metadata": {},
   "outputs": [],
   "source": [
    "# Q8. Write a python program to check whether a given number is Palindrome or not using a while loop."
   ]
  },
  {
   "cell_type": "code",
   "execution_count": null,
   "id": "d08e8d20-07ca-4a23-8ef1-a4fc6a51af06",
   "metadata": {},
   "outputs": [],
   "source": [
    "# ANS\n"
   ]
  },
  {
   "cell_type": "code",
   "execution_count": null,
   "id": "91596c1a-2461-4905-ae77-00af065fceeb",
   "metadata": {},
   "outputs": [],
   "source": []
  },
  {
   "cell_type": "code",
   "execution_count": 26,
   "id": "d4858cfb-1cdb-4cdb-b2d5-81e45e4878c2",
   "metadata": {},
   "outputs": [],
   "source": [
    "# Q9. Write a code to print odd numbers from 1 to 100 using list comprehension."
   ]
  },
  {
   "cell_type": "code",
   "execution_count": 40,
   "id": "8c368251-57b6-46e0-8f18-ee8b5b886814",
   "metadata": {},
   "outputs": [],
   "source": [
    "l=range(1,100)"
   ]
  },
  {
   "cell_type": "code",
   "execution_count": 44,
   "id": "a98d7f69-e646-4906-9676-943b81d5aa0e",
   "metadata": {},
   "outputs": [
    {
     "data": {
      "text/plain": [
       "[1,\n",
       " 2,\n",
       " 3,\n",
       " 4,\n",
       " 5,\n",
       " 6,\n",
       " 7,\n",
       " 8,\n",
       " 9,\n",
       " 10,\n",
       " 11,\n",
       " 12,\n",
       " 13,\n",
       " 14,\n",
       " 15,\n",
       " 16,\n",
       " 17,\n",
       " 18,\n",
       " 19,\n",
       " 20,\n",
       " 21,\n",
       " 22,\n",
       " 23,\n",
       " 24,\n",
       " 25,\n",
       " 26,\n",
       " 27,\n",
       " 28,\n",
       " 29,\n",
       " 30,\n",
       " 31,\n",
       " 32,\n",
       " 33,\n",
       " 34,\n",
       " 35,\n",
       " 36,\n",
       " 37,\n",
       " 38,\n",
       " 39,\n",
       " 40,\n",
       " 41,\n",
       " 42,\n",
       " 43,\n",
       " 44,\n",
       " 45,\n",
       " 46,\n",
       " 47,\n",
       " 48,\n",
       " 49,\n",
       " 50,\n",
       " 51,\n",
       " 52,\n",
       " 53,\n",
       " 54,\n",
       " 55,\n",
       " 56,\n",
       " 57,\n",
       " 58,\n",
       " 59,\n",
       " 60,\n",
       " 61,\n",
       " 62,\n",
       " 63,\n",
       " 64,\n",
       " 65,\n",
       " 66,\n",
       " 67,\n",
       " 68,\n",
       " 69,\n",
       " 70,\n",
       " 71,\n",
       " 72,\n",
       " 73,\n",
       " 74,\n",
       " 75,\n",
       " 76,\n",
       " 77,\n",
       " 78,\n",
       " 79,\n",
       " 80,\n",
       " 81,\n",
       " 82,\n",
       " 83,\n",
       " 84,\n",
       " 85,\n",
       " 86,\n",
       " 87,\n",
       " 88,\n",
       " 89,\n",
       " 90,\n",
       " 91,\n",
       " 92,\n",
       " 93,\n",
       " 94,\n",
       " 95,\n",
       " 96,\n",
       " 97,\n",
       " 98,\n",
       " 99]"
      ]
     },
     "execution_count": 44,
     "metadata": {},
     "output_type": "execute_result"
    }
   ],
   "source": [
    "[i for i in range(1,100)]"
   ]
  },
  {
   "cell_type": "code",
   "execution_count": 45,
   "id": "00c3438f-a7b8-4971-aed3-fa85798d5aeb",
   "metadata": {},
   "outputs": [],
   "source": [
    "l1=[i for i in range(1,100)]"
   ]
  },
  {
   "cell_type": "code",
   "execution_count": 47,
   "id": "5efab7d2-dc22-4643-b0e1-00a138d9ac39",
   "metadata": {},
   "outputs": [
    {
     "data": {
      "text/plain": [
       "[2,\n",
       " 4,\n",
       " 6,\n",
       " 8,\n",
       " 10,\n",
       " 12,\n",
       " 14,\n",
       " 16,\n",
       " 18,\n",
       " 20,\n",
       " 22,\n",
       " 24,\n",
       " 26,\n",
       " 28,\n",
       " 30,\n",
       " 32,\n",
       " 34,\n",
       " 36,\n",
       " 38,\n",
       " 40,\n",
       " 42,\n",
       " 44,\n",
       " 46,\n",
       " 48,\n",
       " 50,\n",
       " 52,\n",
       " 54,\n",
       " 56,\n",
       " 58,\n",
       " 60,\n",
       " 62,\n",
       " 64,\n",
       " 66,\n",
       " 68,\n",
       " 70,\n",
       " 72,\n",
       " 74,\n",
       " 76,\n",
       " 78,\n",
       " 80,\n",
       " 82,\n",
       " 84,\n",
       " 86,\n",
       " 88,\n",
       " 90,\n",
       " 92,\n",
       " 94,\n",
       " 96,\n",
       " 98]"
      ]
     },
     "execution_count": 47,
     "metadata": {},
     "output_type": "execute_result"
    }
   ],
   "source": [
    "[i for i in l1 if i % 2==0]"
   ]
  },
  {
   "cell_type": "code",
   "execution_count": null,
   "id": "7bae4ba6-a97b-45d3-948f-50ca40f39b95",
   "metadata": {},
   "outputs": [],
   "source": []
  }
 ],
 "metadata": {
  "kernelspec": {
   "display_name": "Python 3 (ipykernel)",
   "language": "python",
   "name": "python3"
  },
  "language_info": {
   "codemirror_mode": {
    "name": "ipython",
    "version": 3
   },
   "file_extension": ".py",
   "mimetype": "text/x-python",
   "name": "python",
   "nbconvert_exporter": "python",
   "pygments_lexer": "ipython3",
   "version": "3.10.8"
  }
 },
 "nbformat": 4,
 "nbformat_minor": 5
}
